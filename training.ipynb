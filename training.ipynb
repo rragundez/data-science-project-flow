{
 "cells": [
  {
   "cell_type": "markdown",
   "metadata": {},
   "source": [
    "# Training and evaluation of the comments model\n",
    "\n",
    "This notebook contains the training of the model to classify a comment in the platform as positive or negative. It also contains a section where the model performance is evaluated.\n",
    "\n",
    "- Created by: Juan Fernandez\n",
    "- Created on: 2/Jan/2019\n",
    "- Modified by: William Alexander\n",
    "- Meidifed on: 16/March/2019"
   ]
  },
  {
   "cell_type": "code",
   "execution_count": 1,
   "metadata": {},
   "outputs": [],
   "source": [
    "import requests\n",
    "\n",
    "import numpy as np\n",
    "import pandas as pd\n",
    "\n",
    "from sklearn.feature_extraction.text import CountVectorizer\n",
    "from sklearn.linear_model import LogisticRegression\n",
    "from sklearn.model_selection import train_test_split\n",
    "from sklearn.metrics import accuracy_score\n",
    "from sklearn.pipeline import make_pipeline"
   ]
  },
  {
   "cell_type": "code",
   "execution_count": 2,
   "metadata": {},
   "outputs": [],
   "source": [
    "COMMENTS_URL = 'https://jsonplaceholder.typicode.com/comments'"
   ]
  },
  {
   "cell_type": "markdown",
   "metadata": {},
   "source": [
    "### Data preprocessing"
   ]
  },
  {
   "cell_type": "code",
   "execution_count": 3,
   "metadata": {},
   "outputs": [],
   "source": [
    "def get_comments(comments_url):\n",
    "    comments = requests.get(comments_url).json()\n",
    "    return pd.DataFrame(comments).drop(columns=['id'])\n",
    "\n",
    "def get_labeled_comments(comments_url):\n",
    "    comments = get_comments(comments_url)\n",
    "    comments['sentiment'] = np.random.randint(0, 2, size=len(comments))\n",
    "    return comments"
   ]
  },
  {
   "cell_type": "code",
   "execution_count": 4,
   "metadata": {},
   "outputs": [
    {
     "data": {
      "text/html": [
       "<div>\n",
       "<style scoped>\n",
       "    .dataframe tbody tr th:only-of-type {\n",
       "        vertical-align: middle;\n",
       "    }\n",
       "\n",
       "    .dataframe tbody tr th {\n",
       "        vertical-align: top;\n",
       "    }\n",
       "\n",
       "    .dataframe thead th {\n",
       "        text-align: right;\n",
       "    }\n",
       "</style>\n",
       "<table border=\"1\" class=\"dataframe\">\n",
       "  <thead>\n",
       "    <tr style=\"text-align: right;\">\n",
       "      <th></th>\n",
       "      <th>body</th>\n",
       "      <th>email</th>\n",
       "      <th>name</th>\n",
       "      <th>postId</th>\n",
       "      <th>sentiment</th>\n",
       "    </tr>\n",
       "  </thead>\n",
       "  <tbody>\n",
       "    <tr>\n",
       "      <th>0</th>\n",
       "      <td>laudantium enim quasi est quidem magnam volupt...</td>\n",
       "      <td>Eliseo@gardner.biz</td>\n",
       "      <td>id labore ex et quam laborum</td>\n",
       "      <td>1</td>\n",
       "      <td>1</td>\n",
       "    </tr>\n",
       "    <tr>\n",
       "      <th>1</th>\n",
       "      <td>est natus enim nihil est dolore omnis voluptat...</td>\n",
       "      <td>Jayne_Kuhic@sydney.com</td>\n",
       "      <td>quo vero reiciendis velit similique earum</td>\n",
       "      <td>1</td>\n",
       "      <td>1</td>\n",
       "    </tr>\n",
       "    <tr>\n",
       "      <th>2</th>\n",
       "      <td>quia molestiae reprehenderit quasi aspernatur\\...</td>\n",
       "      <td>Nikita@garfield.biz</td>\n",
       "      <td>odio adipisci rerum aut animi</td>\n",
       "      <td>1</td>\n",
       "      <td>0</td>\n",
       "    </tr>\n",
       "    <tr>\n",
       "      <th>3</th>\n",
       "      <td>non et atque\\noccaecati deserunt quas accusant...</td>\n",
       "      <td>Lew@alysha.tv</td>\n",
       "      <td>alias odio sit</td>\n",
       "      <td>1</td>\n",
       "      <td>1</td>\n",
       "    </tr>\n",
       "    <tr>\n",
       "      <th>4</th>\n",
       "      <td>harum non quasi et ratione\\ntempore iure ex vo...</td>\n",
       "      <td>Hayden@althea.biz</td>\n",
       "      <td>vero eaque aliquid doloribus et culpa</td>\n",
       "      <td>1</td>\n",
       "      <td>1</td>\n",
       "    </tr>\n",
       "  </tbody>\n",
       "</table>\n",
       "</div>"
      ],
      "text/plain": [
       "                                                body                   email  \\\n",
       "0  laudantium enim quasi est quidem magnam volupt...      Eliseo@gardner.biz   \n",
       "1  est natus enim nihil est dolore omnis voluptat...  Jayne_Kuhic@sydney.com   \n",
       "2  quia molestiae reprehenderit quasi aspernatur\\...     Nikita@garfield.biz   \n",
       "3  non et atque\\noccaecati deserunt quas accusant...           Lew@alysha.tv   \n",
       "4  harum non quasi et ratione\\ntempore iure ex vo...       Hayden@althea.biz   \n",
       "\n",
       "                                        name  postId  sentiment  \n",
       "0               id labore ex et quam laborum       1          1  \n",
       "1  quo vero reiciendis velit similique earum       1          1  \n",
       "2              odio adipisci rerum aut animi       1          0  \n",
       "3                             alias odio sit       1          1  \n",
       "4      vero eaque aliquid doloribus et culpa       1          1  "
      ]
     },
     "execution_count": 4,
     "metadata": {},
     "output_type": "execute_result"
    }
   ],
   "source": [
    "comments = get_labeled_comments(COMMENTS_URL)\n",
    "comments.head()"
   ]
  },
  {
   "cell_type": "code",
   "execution_count": 5,
   "metadata": {},
   "outputs": [],
   "source": [
    "X_train, X_test, y_train, y_test = train_test_split(comments['body'], comments['sentiment'])"
   ]
  },
  {
   "cell_type": "markdown",
   "metadata": {},
   "source": [
    "### Feature engineering"
   ]
  },
  {
   "cell_type": "code",
   "execution_count": 6,
   "metadata": {},
   "outputs": [
    {
     "name": "stdout",
     "output_type": "stream",
     "text": [
      "Sparsity: 0.879572744014733\n"
     ]
    }
   ],
   "source": [
    "vectorizer = CountVectorizer()\n",
    "X = vectorizer.fit_transform(X_train)\n",
    "print('Sparsity:', (np.prod(X.shape) - X.count_nonzero()) / np.prod(X.shape))"
   ]
  },
  {
   "cell_type": "markdown",
   "metadata": {},
   "source": [
    "### Training"
   ]
  },
  {
   "cell_type": "code",
   "execution_count": 7,
   "metadata": {},
   "outputs": [
    {
     "name": "stderr",
     "output_type": "stream",
     "text": [
      "/home/rodrigo/anaconda3/lib/python3.7/site-packages/sklearn/linear_model/logistic.py:433: FutureWarning: Default solver will be changed to 'lbfgs' in 0.22. Specify a solver to silence this warning.\n",
      "  FutureWarning)\n"
     ]
    }
   ],
   "source": [
    "logreg = LogisticRegression()\n",
    "logreg = logreg.fit(X, y_train)"
   ]
  },
  {
   "cell_type": "markdown",
   "metadata": {},
   "source": [
    "### Evaluation"
   ]
  },
  {
   "cell_type": "code",
   "execution_count": 8,
   "metadata": {},
   "outputs": [
    {
     "data": {
      "text/plain": [
       "0.464"
      ]
     },
     "execution_count": 8,
     "metadata": {},
     "output_type": "execute_result"
    }
   ],
   "source": [
    "accuracy_score(y_test, logreg.predict(vectorizer.transform(X_test)))"
   ]
  },
  {
   "cell_type": "code",
   "execution_count": null,
   "metadata": {},
   "outputs": [],
   "source": []
  }
 ],
 "metadata": {
  "kernelspec": {
   "display_name": "Python 3",
   "language": "python",
   "name": "python3"
  },
  "language_info": {
   "codemirror_mode": {
    "name": "ipython",
    "version": 3
   },
   "file_extension": ".py",
   "mimetype": "text/x-python",
   "name": "python",
   "nbconvert_exporter": "python",
   "pygments_lexer": "ipython3",
   "version": "3.7.2"
  }
 },
 "nbformat": 4,
 "nbformat_minor": 2
}
