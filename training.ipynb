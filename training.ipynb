{
 "cells": [
  {
   "cell_type": "markdown",
   "metadata": {},
   "source": [
    "# Training and evaluation of the comments model\n",
    "\n",
    "This notebook contains the training of the model to classify a comment in the platform as positive or negative. It also contains a section where the model performance is evaluated.\n",
    "\n",
    "- Created by: Juan Fernandez\n",
    "- Created on: 2/Jan/2019\n",
    "- Modified by: William Alexander\n",
    "- Meidifed on: 16/March/2019"
   ]
  },
  {
   "cell_type": "code",
   "execution_count": 1,
   "metadata": {},
   "outputs": [],
   "source": [
    "import os\n",
    "import sys\n",
    "\n",
    "import numpy as np\n",
    "import pandas as pd\n",
    "import seaborn as sns\n",
    "\n",
    "from dotenv import load_dotenv, find_dotenv\n",
    "from sklearn.ensemble import RandomForestClassifier\n",
    "from sklearn.feature_extraction.text import CountVectorizer\n",
    "from sklearn.model_selection import train_test_split\n",
    "from sklearn.metrics import accuracy_score"
   ]
  },
  {
   "cell_type": "code",
   "execution_count": 2,
   "metadata": {},
   "outputs": [],
   "source": [
    "%load_ext autoreload\n",
    "%autoreload 2"
   ]
  },
  {
   "cell_type": "code",
   "execution_count": 3,
   "metadata": {},
   "outputs": [],
   "source": [
    "from pipeline import make_ds_flow_pipeline\n",
    "from preprocessing import create_dataset, get_labeled_comments, get_token_weigths"
   ]
  },
  {
   "cell_type": "code",
   "execution_count": 4,
   "metadata": {},
   "outputs": [],
   "source": [
    "COMMENTS_URL = 'https://jsonplaceholder.typicode.com/comments'"
   ]
  },
  {
   "cell_type": "code",
   "execution_count": 5,
   "metadata": {},
   "outputs": [],
   "source": [
    "load_dotenv(find_dotenv(), verbose=True)\n",
    "\n",
    "usr = os.getenv('DB_USERNAME')\n",
    "pwd = os.getenv('DB_PASSWORD')\n",
    "token = os.getenv('DB_TOKEN')\n",
    "\n",
    "if not(usr and pwd and token):\n",
    "    raise Exception('Credentials are missing')"
   ]
  },
  {
   "cell_type": "markdown",
   "metadata": {},
   "source": [
    "### Data preprocessing"
   ]
  },
  {
   "cell_type": "code",
   "execution_count": 6,
   "metadata": {},
   "outputs": [
    {
     "data": {
      "text/html": [
       "<div>\n",
       "<style scoped>\n",
       "    .dataframe tbody tr th:only-of-type {\n",
       "        vertical-align: middle;\n",
       "    }\n",
       "\n",
       "    .dataframe tbody tr th {\n",
       "        vertical-align: top;\n",
       "    }\n",
       "\n",
       "    .dataframe thead th {\n",
       "        text-align: right;\n",
       "    }\n",
       "</style>\n",
       "<table border=\"1\" class=\"dataframe\">\n",
       "  <thead>\n",
       "    <tr style=\"text-align: right;\">\n",
       "      <th></th>\n",
       "      <th>body</th>\n",
       "      <th>email</th>\n",
       "      <th>name</th>\n",
       "      <th>postId</th>\n",
       "      <th>sentiment</th>\n",
       "    </tr>\n",
       "  </thead>\n",
       "  <tbody>\n",
       "    <tr>\n",
       "      <th>0</th>\n",
       "      <td>laudantium enim quasi est quidem magnam volupt...</td>\n",
       "      <td>Eliseo@gardner.biz</td>\n",
       "      <td>id labore ex et quam laborum</td>\n",
       "      <td>1</td>\n",
       "      <td>0</td>\n",
       "    </tr>\n",
       "    <tr>\n",
       "      <th>1</th>\n",
       "      <td>est natus enim nihil est dolore omnis voluptat...</td>\n",
       "      <td>Jayne_Kuhic@sydney.com</td>\n",
       "      <td>quo vero reiciendis velit similique earum</td>\n",
       "      <td>1</td>\n",
       "      <td>1</td>\n",
       "    </tr>\n",
       "    <tr>\n",
       "      <th>2</th>\n",
       "      <td>quia molestiae reprehenderit quasi aspernatur\\...</td>\n",
       "      <td>Nikita@garfield.biz</td>\n",
       "      <td>odio adipisci rerum aut animi</td>\n",
       "      <td>1</td>\n",
       "      <td>1</td>\n",
       "    </tr>\n",
       "    <tr>\n",
       "      <th>3</th>\n",
       "      <td>non et atque\\noccaecati deserunt quas accusant...</td>\n",
       "      <td>Lew@alysha.tv</td>\n",
       "      <td>alias odio sit</td>\n",
       "      <td>1</td>\n",
       "      <td>0</td>\n",
       "    </tr>\n",
       "    <tr>\n",
       "      <th>4</th>\n",
       "      <td>harum non quasi et ratione\\ntempore iure ex vo...</td>\n",
       "      <td>Hayden@althea.biz</td>\n",
       "      <td>vero eaque aliquid doloribus et culpa</td>\n",
       "      <td>1</td>\n",
       "      <td>1</td>\n",
       "    </tr>\n",
       "  </tbody>\n",
       "</table>\n",
       "</div>"
      ],
      "text/plain": [
       "                                                body                   email  \\\n",
       "0  laudantium enim quasi est quidem magnam volupt...      Eliseo@gardner.biz   \n",
       "1  est natus enim nihil est dolore omnis voluptat...  Jayne_Kuhic@sydney.com   \n",
       "2  quia molestiae reprehenderit quasi aspernatur\\...     Nikita@garfield.biz   \n",
       "3  non et atque\\noccaecati deserunt quas accusant...           Lew@alysha.tv   \n",
       "4  harum non quasi et ratione\\ntempore iure ex vo...       Hayden@althea.biz   \n",
       "\n",
       "                                        name  postId  sentiment  \n",
       "0               id labore ex et quam laborum       1          0  \n",
       "1  quo vero reiciendis velit similique earum       1          1  \n",
       "2              odio adipisci rerum aut animi       1          1  \n",
       "3                             alias odio sit       1          0  \n",
       "4      vero eaque aliquid doloribus et culpa       1          1  "
      ]
     },
     "execution_count": 6,
     "metadata": {},
     "output_type": "execute_result"
    }
   ],
   "source": [
    "comments = get_labeled_comments(COMMENTS_URL, usr, pwd, token)\n",
    "comments.head()"
   ]
  },
  {
   "cell_type": "code",
   "execution_count": 7,
   "metadata": {
    "scrolled": true
   },
   "outputs": [
    {
     "data": {
      "text/html": [
       "<div>\n",
       "<style scoped>\n",
       "    .dataframe tbody tr th:only-of-type {\n",
       "        vertical-align: middle;\n",
       "    }\n",
       "\n",
       "    .dataframe tbody tr th {\n",
       "        vertical-align: top;\n",
       "    }\n",
       "\n",
       "    .dataframe thead th {\n",
       "        text-align: right;\n",
       "    }\n",
       "</style>\n",
       "<table border=\"1\" class=\"dataframe\">\n",
       "  <thead>\n",
       "    <tr style=\"text-align: right;\">\n",
       "      <th></th>\n",
       "      <th>token</th>\n",
       "      <th>weight</th>\n",
       "    </tr>\n",
       "  </thead>\n",
       "  <tbody>\n",
       "    <tr>\n",
       "      <th>0</th>\n",
       "      <td>pa</td>\n",
       "      <td>0.388042</td>\n",
       "    </tr>\n",
       "    <tr>\n",
       "      <th>1</th>\n",
       "      <td>er</td>\n",
       "      <td>0.828243</td>\n",
       "    </tr>\n",
       "    <tr>\n",
       "      <th>2</th>\n",
       "      <td>x</td>\n",
       "      <td>0.476935</td>\n",
       "    </tr>\n",
       "    <tr>\n",
       "      <th>3</th>\n",
       "      <td>or</td>\n",
       "      <td>0.387840</td>\n",
       "    </tr>\n",
       "    <tr>\n",
       "      <th>4</th>\n",
       "      <td>a</td>\n",
       "      <td>0.485616</td>\n",
       "    </tr>\n",
       "  </tbody>\n",
       "</table>\n",
       "</div>"
      ],
      "text/plain": [
       "  token    weight\n",
       "0    pa  0.388042\n",
       "1    er  0.828243\n",
       "2     x  0.476935\n",
       "3    or  0.387840\n",
       "4    a   0.485616"
      ]
     },
     "execution_count": 7,
     "metadata": {},
     "output_type": "execute_result"
    }
   ],
   "source": [
    "weights = get_token_weigths('token_weights.csv')\n",
    "weights.head()"
   ]
  },
  {
   "cell_type": "code",
   "execution_count": 8,
   "metadata": {},
   "outputs": [
    {
     "data": {
      "text/html": [
       "<div>\n",
       "<style scoped>\n",
       "    .dataframe tbody tr th:only-of-type {\n",
       "        vertical-align: middle;\n",
       "    }\n",
       "\n",
       "    .dataframe tbody tr th {\n",
       "        vertical-align: top;\n",
       "    }\n",
       "\n",
       "    .dataframe thead th {\n",
       "        text-align: right;\n",
       "    }\n",
       "</style>\n",
       "<table border=\"1\" class=\"dataframe\">\n",
       "  <thead>\n",
       "    <tr style=\"text-align: right;\">\n",
       "      <th></th>\n",
       "      <th>body</th>\n",
       "      <th>email</th>\n",
       "      <th>name</th>\n",
       "      <th>postId</th>\n",
       "      <th>sentiment</th>\n",
       "      <th>weights</th>\n",
       "    </tr>\n",
       "  </thead>\n",
       "  <tbody>\n",
       "    <tr>\n",
       "      <th>0</th>\n",
       "      <td>laudantium enim quasi est quidem magnam volupt...</td>\n",
       "      <td>Eliseo@gardner.biz</td>\n",
       "      <td>id labore ex et quam laborum</td>\n",
       "      <td>1</td>\n",
       "      <td>0</td>\n",
       "      <td>1</td>\n",
       "    </tr>\n",
       "    <tr>\n",
       "      <th>1</th>\n",
       "      <td>est natus enim nihil est dolore omnis voluptat...</td>\n",
       "      <td>Jayne_Kuhic@sydney.com</td>\n",
       "      <td>quo vero reiciendis velit similique earum</td>\n",
       "      <td>1</td>\n",
       "      <td>1</td>\n",
       "      <td>1</td>\n",
       "    </tr>\n",
       "    <tr>\n",
       "      <th>2</th>\n",
       "      <td>quia molestiae reprehenderit quasi aspernatur\\...</td>\n",
       "      <td>Nikita@garfield.biz</td>\n",
       "      <td>odio adipisci rerum aut animi</td>\n",
       "      <td>1</td>\n",
       "      <td>1</td>\n",
       "      <td>1</td>\n",
       "    </tr>\n",
       "    <tr>\n",
       "      <th>3</th>\n",
       "      <td>non et atque\\noccaecati deserunt quas accusant...</td>\n",
       "      <td>Lew@alysha.tv</td>\n",
       "      <td>alias odio sit</td>\n",
       "      <td>1</td>\n",
       "      <td>0</td>\n",
       "      <td>1</td>\n",
       "    </tr>\n",
       "    <tr>\n",
       "      <th>4</th>\n",
       "      <td>harum non quasi et ratione\\ntempore iure ex vo...</td>\n",
       "      <td>Hayden@althea.biz</td>\n",
       "      <td>vero eaque aliquid doloribus et culpa</td>\n",
       "      <td>1</td>\n",
       "      <td>1</td>\n",
       "      <td>1</td>\n",
       "    </tr>\n",
       "  </tbody>\n",
       "</table>\n",
       "</div>"
      ],
      "text/plain": [
       "                                                body                   email  \\\n",
       "0  laudantium enim quasi est quidem magnam volupt...      Eliseo@gardner.biz   \n",
       "1  est natus enim nihil est dolore omnis voluptat...  Jayne_Kuhic@sydney.com   \n",
       "2  quia molestiae reprehenderit quasi aspernatur\\...     Nikita@garfield.biz   \n",
       "3  non et atque\\noccaecati deserunt quas accusant...           Lew@alysha.tv   \n",
       "4  harum non quasi et ratione\\ntempore iure ex vo...       Hayden@althea.biz   \n",
       "\n",
       "                                        name  postId  sentiment  weights  \n",
       "0               id labore ex et quam laborum       1          0        1  \n",
       "1  quo vero reiciendis velit similique earum       1          1        1  \n",
       "2              odio adipisci rerum aut animi       1          1        1  \n",
       "3                             alias odio sit       1          0        1  \n",
       "4      vero eaque aliquid doloribus et culpa       1          1        1  "
      ]
     },
     "execution_count": 8,
     "metadata": {},
     "output_type": "execute_result"
    }
   ],
   "source": [
    "comments = create_dataset(comments, weights)\n",
    "comments.head()"
   ]
  },
  {
   "cell_type": "code",
   "execution_count": 9,
   "metadata": {},
   "outputs": [
    {
     "data": {
      "image/png": "[encoded data removed]",
      "text/plain": [
       "<Figure size 432x288 with 1 Axes>"
      ]
     },
     "metadata": {
      "needs_background": "light"
     },
     "output_type": "display_data"
    }
   ],
   "source": [
    "sns.countplot(y='sentiment', data=comments);"
   ]
  },
  {
   "cell_type": "code",
   "execution_count": 10,
   "metadata": {},
   "outputs": [],
   "source": [
    "X_train, X_test, y_train, y_test = train_test_split(comments[['body', 'weights']], comments['sentiment'])\n",
    "weights = X_train['weights']\n",
    "X_train = X_train['body']\n",
    "X_test = X_test['body']"
   ]
  },
  {
   "cell_type": "markdown",
   "metadata": {},
   "source": [
    "### Feature engineering"
   ]
  },
  {
   "cell_type": "code",
   "execution_count": 11,
   "metadata": {},
   "outputs": [
    {
     "name": "stdout",
     "output_type": "stream",
     "text": [
      "Sparsity: 0.8789686924493554\n"
     ]
    }
   ],
   "source": [
    "vectorizer = CountVectorizer()\n",
    "X = vectorizer.fit_transform(X_train)\n",
    "print('Sparsity:', (np.prod(X.shape) - X.count_nonzero()) / np.prod(X.shape))"
   ]
  },
  {
   "cell_type": "markdown",
   "metadata": {},
   "source": [
    "### Training"
   ]
  },
  {
   "cell_type": "code",
   "execution_count": 12,
   "metadata": {},
   "outputs": [
    {
     "name": "stderr",
     "output_type": "stream",
     "text": [
      "/home/rodrigo/anaconda3/envs/ds-flow/lib/python3.7/site-packages/sklearn/ensemble/forest.py:248: FutureWarning: The default value of n_estimators will change from 10 in version 0.20 to 100 in 0.22.\n",
      "  \"10 in version 0.20 to 100 in 0.22.\", FutureWarning)\n"
     ]
    }
   ],
   "source": [
    "forest = RandomForestClassifier(random_state=21)\n",
    "forest = forest.fit(X, y_train, sample_weight=weights)"
   ]
  },
  {
   "cell_type": "markdown",
   "metadata": {},
   "source": [
    "### Evaluation"
   ]
  },
  {
   "cell_type": "code",
   "execution_count": 13,
   "metadata": {},
   "outputs": [
    {
     "data": {
      "text/plain": [
       "0.512"
      ]
     },
     "execution_count": 13,
     "metadata": {},
     "output_type": "execute_result"
    }
   ],
   "source": [
    "accuracy_score(y_test, forest.predict(vectorizer.transform(X_test)))"
   ]
  },
  {
   "cell_type": "markdown",
   "metadata": {},
   "source": [
    "### Comparison with model from scripts"
   ]
  },
  {
   "cell_type": "code",
   "execution_count": 14,
   "metadata": {},
   "outputs": [
    {
     "name": "stderr",
     "output_type": "stream",
     "text": [
      "/home/rodrigo/anaconda3/envs/ds-flow/lib/python3.7/site-packages/sklearn/ensemble/forest.py:248: FutureWarning: The default value of n_estimators will change from 10 in version 0.20 to 100 in 0.22.\n",
      "  \"10 in version 0.20 to 100 in 0.22.\", FutureWarning)\n"
     ]
    },
    {
     "data": {
      "text/plain": [
       "0.512"
      ]
     },
     "execution_count": 14,
     "metadata": {},
     "output_type": "execute_result"
    }
   ],
   "source": [
    "model_pipeline = make_ds_flow_pipeline(seed=21)\n",
    "model_pipeline = model_pipeline.fit(X_train, y_train, forest__sample_weight=weights)\n",
    "accuracy_score(y_test, model_pipeline.predict(X_test))"
   ]
  },
  {
   "cell_type": "code",
   "execution_count": null,
   "metadata": {},
   "outputs": [],
   "source": []
  }
 ],
 "metadata": {
  "kernelspec": {
   "display_name": "Python 3",
   "language": "python",
   "name": "python3"
  },
  "language_info": {
   "codemirror_mode": {
    "name": "ipython",
    "version": 3
   },
   "file_extension": ".py",
   "mimetype": "text/x-python",
   "name": "python",
   "nbconvert_exporter": "python",
   "pygments_lexer": "ipython3",
   "version": "3.7.1"
  }
 },
 "nbformat": 4,
 "nbformat_minor": 2
}
